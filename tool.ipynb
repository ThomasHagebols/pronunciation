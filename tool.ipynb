{
 "cells": [
  {
   "cell_type": "markdown",
   "metadata": {},
   "source": [
    "# How to use\n",
    "Below you see some interactive code blocks. To execute them click the block and presh shift-enter\n",
    "\n",
    "The block below will get some stuff ready"
   ]
  },
  {
   "cell_type": "code",
   "execution_count": null,
   "metadata": {},
   "outputs": [],
   "source": [
    "import nltk\n",
    "from nltk.corpus import wordnet\n",
    "import pandas as pd\n",
    "import ipywidgets as widgets\n",
    "from pronouncing import rhymes, syllable_count, phones_for_word\n",
    "from IPython.display import display, Markdown\n",
    "\n",
    "nltk.download(\"wordnet\")"
   ]
  },
  {
   "cell_type": "code",
   "execution_count": null,
   "metadata": {},
   "outputs": [],
   "source": [
    "display(Markdown(\"# Upload your excel sheet here\"))\n",
    "widgets.FileUpload(\n",
    "    accept=\".csv\",  # Accepted file extension e.g. '.txt', '.pdf', 'image/*', 'image/*,.pdf'\n",
    "    multiple=False,  # True to accept multiple files upload else False\n",
    ")"
   ]
  },
  {
   "cell_type": "markdown",
   "metadata": {},
   "source": [
    "Change `test.csv` into the file name you just uploaded"
   ]
  },
  {
   "cell_type": "code",
   "execution_count": null,
   "metadata": {},
   "outputs": [],
   "source": [
    "df = pd.read_csv(\"test.csv\")\n",
    "\n",
    "\n",
    "def find_syn_ant(word):\n",
    "    synonyms = []\n",
    "    antonyms = []\n",
    "\n",
    "    for syn in wordnet.synsets(word):\n",
    "        for l in syn.lemmas():\n",
    "            synonyms.append(l.name())\n",
    "            if l.antonyms():\n",
    "                antonyms.append(l.antonyms()[0].name())\n",
    "\n",
    "    return set(synonyms), set(antonyms)\n",
    "\n",
    "\n",
    "# nederlands,Engels woord,Engels synoniem,\n",
    "df[\"Engels synoniem\"] = df.apply(\n",
    "    lambda row: find_syn_ant(row[\"Engels woord\"])[0], axis=1\n",
    ")\n",
    "df[\"Lettergrepen\"] = df.apply(\n",
    "    lambda row: syllable_count(phones_for_word(row[\"Engels woord\"])[0]), axis=1\n",
    ")\n",
    "df[\"Letters\"] = df.apply(lambda row: len(row[\"Engels woord\"]), axis=1)\n",
    "df[\"Rijmwoord\"] = df.apply(lambda row: rhymes(row[\"Engels woord\"]), axis=1)\n",
    "df[\"Ongerelateerd synoniem\"] = df.apply(\n",
    "    lambda row: find_syn_ant(row[\"Engels woord\"])[1], axis=1\n",
    ")\n",
    "\n",
    "display(df)"
   ]
  }
 ],
 "metadata": {
  "kernelspec": {
   "display_name": "Python 3",
   "language": "python",
   "name": "python3"
  },
  "language_info": {
   "codemirror_mode": {
    "name": "ipython",
    "version": 3
   },
   "file_extension": ".py",
   "mimetype": "text/x-python",
   "name": "python",
   "nbconvert_exporter": "python",
   "pygments_lexer": "ipython3",
   "version": "3.8.5"
  }
 },
 "nbformat": 4,
 "nbformat_minor": 4
}
